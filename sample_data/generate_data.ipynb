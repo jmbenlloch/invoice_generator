{
 "cells": [
  {
   "cell_type": "code",
   "execution_count": 16,
   "id": "f8f73120-0e31-4122-a648-a33c880ab5c9",
   "metadata": {},
   "outputs": [],
   "source": [
    "import faker\n",
    "import random\n",
    "import pandas as pd\n",
    "from datetime import date\n",
    "from datetime import timedelta\n",
    "import numpy as np"
   ]
  },
  {
   "cell_type": "code",
   "execution_count": 17,
   "id": "cf369e78-6409-4fba-96c5-9254fe15c6c7",
   "metadata": {},
   "outputs": [],
   "source": [
    "def generador_dni():\n",
    "    POSSIBLE_LETTERS = (\"T\",\"R\",\"W\",\"A\",\"G\",\"M\",\"Y\",\"F\",\"P\",\"D\",\"X\",\"B\",\"N\",\"J\",\"Z\",\"S\",\"Q\",\"V\",\"H\",\"L\",\"C\",\"K\",\"E\",\"T\")\n",
    "    NUMBER_DNI = random.randint(10000000, 99999999)\n",
    "    LETTER_DNI = POSSIBLE_LETTERS[NUMBER_DNI % 23]\n",
    "    return f\"{NUMBER_DNI}{LETTER_DNI}\""
   ]
  },
  {
   "cell_type": "code",
   "execution_count": 18,
   "id": "1e2f732d-7345-416c-9b70-87e309bb516b",
   "metadata": {},
   "outputs": [],
   "source": [
    "def edad(birthdate):\n",
    "    today = date.today()\n",
    "    age = today.year - birthdate.year - ((today.month, today.day) < (birthdate.month, birthdate.day))\n",
    "    return age"
   ]
  },
  {
   "cell_type": "code",
   "execution_count": 19,
   "id": "d89d096b-d6e0-4d7f-8ff7-9994e47499d7",
   "metadata": {},
   "outputs": [],
   "source": [
    "psicologos = ['Elena', 'Oriol', 'Psicologo3']\n",
    "n_patients = 10"
   ]
  },
  {
   "cell_type": "code",
   "execution_count": 20,
   "id": "0e57f4a3-8d3d-4f2b-ba2c-e6bc62f09ee3",
   "metadata": {},
   "outputs": [],
   "source": [
    "fake = faker.Faker('es_ES')"
   ]
  },
  {
   "cell_type": "markdown",
   "id": "3b5b986d-b445-441a-9ece-3b50a3784f28",
   "metadata": {},
   "source": [
    "# Generate patient list"
   ]
  },
  {
   "cell_type": "code",
   "execution_count": 21,
   "id": "feee1032-9b73-43fe-b30e-1f51f75f7ec1",
   "metadata": {},
   "outputs": [],
   "source": [
    "nombres = []\n",
    "nacimientos = []\n",
    "padres = []\n",
    "dnis = []\n",
    "telefonos1 = []\n",
    "telefonos2 = []\n",
    "direcciones = []\n",
    "mails = []\n",
    "derivantes = []\n",
    "profesionales = []\n",
    "tratamientos = []\n",
    "inicio_tratamientos = []\n",
    "notas = []\n",
    "\n",
    "for _ in range(n_patients):\n",
    "    profile = fake.profile()\n",
    "    nombres.append(profile['name'])\n",
    "    nacimientos.append(profile['birthdate'])\n",
    "    dnis.append(generador_dni())\n",
    "    direcciones.append(profile['address'])\n",
    "    mails.append(profile['mail'])\n",
    "    derivantes.append('medico{}'.format(random.randint(0, 5)))\n",
    "    profesionales.append(random.choice(psicologos))\n",
    "    tratamientos.append('terapia')\n",
    "    \n",
    "    telefonos1.append(random.randint(600000000,699999999))\n",
    "    \n",
    "    if random.randint(0, 10) > 5:\n",
    "        telefonos2.append(random.randint(600000000,699999999))\n",
    "        notas.append(profile['job'])\n",
    "    else:\n",
    "        telefonos2.append(None)\n",
    "        notas.append(None)\n",
    "    \n",
    "    if edad(nacimientos[-1]) < 18:\n",
    "        padre = fake.profile()\n",
    "        padres.append(padre['name'])\n",
    "    else:\n",
    "        padres.append(None)\n",
    "        \n",
    "    inicio_tratamientos.append(fake.profile()['birthdate'])\n",
    "    "
   ]
  },
  {
   "cell_type": "code",
   "execution_count": 22,
   "id": "5f171814-e01a-4839-b82c-38335d66240b",
   "metadata": {},
   "outputs": [],
   "source": [
    "df_pacientes = pd.DataFrame({'Nombre' : nombres,\n",
    "                             'Fecha nacimiento' : nacimientos,\n",
    "                             'Padre/Madre (si menor)' : padres,\n",
    "                             'DNI' : dnis,\n",
    "                             'Telefono 1' : telefonos1,\n",
    "                             'Telefono 2' : telefonos2,\n",
    "                             'Direccion' : direcciones,\n",
    "                             'Mail' : mails,\n",
    "                             'Profesional' : profesionales,\n",
    "                             'Tipo de tratamiento' : tratamientos,\n",
    "                             'Inicio tratamiento' : inicio_tratamientos,\n",
    "                             'Notas' : notas})"
   ]
  },
  {
   "cell_type": "code",
   "execution_count": 23,
   "id": "636b1615-b1d0-481d-ad9a-a139ce1654b5",
   "metadata": {},
   "outputs": [],
   "source": [
    "df_pacientes.to_excel('listado_pacientes.xlsx', index=False)"
   ]
  },
  {
   "cell_type": "markdown",
   "id": "68cfcc75-c1ca-4257-ab1e-d65c8b7afbe4",
   "metadata": {},
   "source": [
    "# Generate monthly visits"
   ]
  },
  {
   "cell_type": "code",
   "execution_count": 24,
   "id": "9317e65b-58fb-401b-ad7c-e43b6133b52b",
   "metadata": {},
   "outputs": [],
   "source": [
    "def generate_random_visit_date(month, year):\n",
    "    start_date = date(year, month  , 1)\n",
    "    end_date   = date(year, month+1, 1)\n",
    "\n",
    "    time_between_dates = end_date - start_date\n",
    "    days_between_dates = time_between_dates.days\n",
    "    random_number_of_days = random.randrange(days_between_dates)\n",
    "    random_date = start_date + timedelta(days=random_number_of_days)\n",
    "    return random_date"
   ]
  },
  {
   "cell_type": "code",
   "execution_count": 25,
   "id": "7ada5578-9f63-4bd4-bfb6-7d7dafe027fc",
   "metadata": {},
   "outputs": [],
   "source": [
    "def generate_random_monthly_visits(df_pacientes, month, year):\n",
    "    fechas        = []\n",
    "    profesionales = []\n",
    "    pacientes     = []\n",
    "    dnis          = []\n",
    "    conceptos     = []\n",
    "    euros         = []\n",
    "\n",
    "    patients = (np.random.rand(n_patients) > 0.4).nonzero()[0]\n",
    "    for patient in patients:\n",
    "        datos_paciente = df_pacientes.loc[patient]\n",
    "        n_visits       = random.randint(1, 11)\n",
    "        for visit in range(n_visits):\n",
    "            fechas       .append(generate_random_visit_date(month, year))\n",
    "            profesionales.append(datos_paciente['Profesional'])\n",
    "            pacientes    .append(datos_paciente['Nombre'])\n",
    "            dnis         .append(datos_paciente['DNI'])\n",
    "            conceptos    .append(datos_paciente['Tipo de tratamiento'])\n",
    "            euros        .append(random.randint(50, 80))\n",
    "            \n",
    "    df_visitas = pd.DataFrame({'Fecha' : fechas,\n",
    "                               'Profesional' : profesionales,\n",
    "                               'Paciente' : pacientes,\n",
    "                               'DNI' : dnis,\n",
    "                               'Concepto' : conceptos,\n",
    "                               'Euros' : euros})\n",
    "    \n",
    "    return df_visitas"
   ]
  },
  {
   "cell_type": "code",
   "execution_count": 27,
   "id": "8707ac0b-20cc-42fe-852b-40cabea418d1",
   "metadata": {},
   "outputs": [
    {
     "name": "stdout",
     "output_type": "stream",
     "text": [
      "1-2022\t46 visits\n",
      "2-2022\t37 visits\n",
      "3-2022\t33 visits\n",
      "4-2022\t24 visits\n"
     ]
    }
   ],
   "source": [
    "year = 2022\n",
    "\n",
    "start_month = 1\n",
    "end_month = 5\n",
    "\n",
    "for month in range(start_month, end_month):\n",
    "    df_visitas = generate_random_monthly_visits(df_pacientes, month, year)\n",
    "    print(f\"{month}-{year}\\t{df_visitas.shape[0]} visits\")\n",
    "    filename = 'visitas_{}_{}.xlsx'.format(month, year)\n",
    "    df_visitas.to_excel(filename, index=False)"
   ]
  },
  {
   "cell_type": "code",
   "execution_count": null,
   "id": "00720935-48fc-40b4-b05a-66968e39feff",
   "metadata": {},
   "outputs": [],
   "source": []
  },
  {
   "cell_type": "code",
   "execution_count": null,
   "id": "be0b0081-3307-44a2-a5a1-383b331355b3",
   "metadata": {},
   "outputs": [],
   "source": []
  }
 ],
 "metadata": {
  "kernelspec": {
   "display_name": "Python 3 (ipykernel)",
   "language": "python",
   "name": "python3"
  },
  "language_info": {
   "codemirror_mode": {
    "name": "ipython",
    "version": 3
   },
   "file_extension": ".py",
   "mimetype": "text/x-python",
   "name": "python",
   "nbconvert_exporter": "python",
   "pygments_lexer": "ipython3",
   "version": "3.9.12"
  }
 },
 "nbformat": 4,
 "nbformat_minor": 5
}
